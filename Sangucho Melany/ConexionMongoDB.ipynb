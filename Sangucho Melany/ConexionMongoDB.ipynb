{
 "cells": [
  {
   "cell_type": "code",
   "execution_count": 2,
   "id": "1cf5895e",
   "metadata": {},
   "outputs": [],
   "source": [
    "#Importar libreria necesaria\n",
    "from pymongo import MongoClient"
   ]
  },
  {
   "cell_type": "code",
   "execution_count": null,
   "id": "68a07183",
   "metadata": {},
   "outputs": [],
   "source": [
    "#Conexión con MongoDB"
   ]
  },
  {
   "cell_type": "code",
   "execution_count": 4,
   "id": "79640246",
   "metadata": {},
   "outputs": [],
   "source": [
    "client = MongoClient('mongodb://localhost:27017')"
   ]
  },
  {
   "cell_type": "code",
   "execution_count": 5,
   "id": "4e5bc68c",
   "metadata": {},
   "outputs": [],
   "source": [
    "mydatabase = client['mongo_MS']"
   ]
  },
  {
   "cell_type": "code",
   "execution_count": 9,
   "id": "df6eab69",
   "metadata": {},
   "outputs": [],
   "source": [
    "#Carga de archivo csv en la primera coleccion de la base de datos\n",
    "import csv"
   ]
  },
  {
   "cell_type": "code",
   "execution_count": 13,
   "id": "4b3fe14a",
   "metadata": {},
   "outputs": [],
   "source": [
    "#Acceso a la primera coleccion\n",
    "collection1 = mydatabase.cryptocurrency"
   ]
  },
  {
   "cell_type": "code",
   "execution_count": 10,
   "id": "6e099935",
   "metadata": {},
   "outputs": [],
   "source": [
    "#Leer un archivo csv por filas\n",
    "with open(\"cryptocurrency.csv\",'r') as file_csv:\n",
    "    csv_reader = csv.DictReader(file_csv)\n",
    "    data_to_insert = [row for row in csv_reader]"
   ]
  },
  {
   "cell_type": "code",
   "execution_count": 12,
   "id": "d3a85066",
   "metadata": {},
   "outputs": [
    {
     "data": {
      "text/plain": [
       "<pymongo.results.InsertManyResult at 0x2640c5a9960>"
      ]
     },
     "execution_count": 12,
     "metadata": {},
     "output_type": "execute_result"
    }
   ],
   "source": [
    "#Inserta datos en la coleccion\n",
    "collection1.insert_many(data_to_insert)"
   ]
  },
  {
   "cell_type": "code",
   "execution_count": 14,
   "id": "3689e3c5",
   "metadata": {},
   "outputs": [],
   "source": [
    "#Carga de archivo csv en la segunda coleccion de la base de datos"
   ]
  },
  {
   "cell_type": "code",
   "execution_count": 15,
   "id": "4c73d0c7",
   "metadata": {},
   "outputs": [],
   "source": [
    "collection2 = mydatabase.hard_rock_music"
   ]
  },
  {
   "cell_type": "code",
   "execution_count": 16,
   "id": "f475a219",
   "metadata": {},
   "outputs": [],
   "source": [
    "with open(\"hard_rock_music.csv\",'r') as file2_csv:\n",
    "    csv2_reader = csv.DictReader(file2_csv)\n",
    "    data2_to_insert = [row for row in csv2_reader]"
   ]
  },
  {
   "cell_type": "code",
   "execution_count": 17,
   "id": "173122d5",
   "metadata": {},
   "outputs": [
    {
     "data": {
      "text/plain": [
       "<pymongo.results.InsertManyResult at 0x2640c2ada20>"
      ]
     },
     "execution_count": 17,
     "metadata": {},
     "output_type": "execute_result"
    }
   ],
   "source": [
    "collection2.insert_many(data2_to_insert)"
   ]
  },
  {
   "cell_type": "code",
   "execution_count": 21,
   "id": "1c9be03b",
   "metadata": {},
   "outputs": [],
   "source": [
    "#Carga de archivo json en la tercera coleccion de la base de datos\n",
    "import json"
   ]
  },
  {
   "cell_type": "code",
   "execution_count": 19,
   "id": "423cd6ce",
   "metadata": {},
   "outputs": [],
   "source": [
    "collection3 = mydatabase.netflix_movies"
   ]
  },
  {
   "cell_type": "code",
   "execution_count": 22,
   "id": "b17f1e70",
   "metadata": {},
   "outputs": [],
   "source": [
    "#Leer el archivo json \n",
    "with open(\"netflix_movies.json\",'r') as file_json:\n",
    "    data3_to_insert = json.load(file_json)"
   ]
  },
  {
   "cell_type": "code",
   "execution_count": 23,
   "id": "3a2c0c53",
   "metadata": {},
   "outputs": [
    {
     "data": {
      "text/plain": [
       "<pymongo.results.InsertManyResult at 0x2640d4eafe0>"
      ]
     },
     "execution_count": 23,
     "metadata": {},
     "output_type": "execute_result"
    }
   ],
   "source": [
    "#Inserta datos en la coleccion\n",
    "collection3.insert_many(data3_to_insert)"
   ]
  },
  {
   "cell_type": "code",
   "execution_count": 24,
   "id": "e21c6e8e",
   "metadata": {},
   "outputs": [],
   "source": [
    "#Carga de archivo json en la cuarta coleccion de la base de datos"
   ]
  },
  {
   "cell_type": "code",
   "execution_count": 20,
   "id": "4b86b462",
   "metadata": {},
   "outputs": [],
   "source": [
    "collection4 = mydatabase.turismo_post_pandemia"
   ]
  },
  {
   "cell_type": "code",
   "execution_count": 25,
   "id": "23e0d375",
   "metadata": {},
   "outputs": [],
   "source": [
    "with open(\"turismo_post_pandemia.json\",'r') as file2_json:\n",
    "    data4_to_insert = json.load(file2_json)"
   ]
  },
  {
   "cell_type": "code",
   "execution_count": 26,
   "id": "f5ff1086",
   "metadata": {},
   "outputs": [
    {
     "data": {
      "text/plain": [
       "<pymongo.results.InsertManyResult at 0x2640d77ef80>"
      ]
     },
     "execution_count": 26,
     "metadata": {},
     "output_type": "execute_result"
    }
   ],
   "source": [
    "collection4.insert_many(data4_to_insert)"
   ]
  }
 ],
 "metadata": {
  "kernelspec": {
   "display_name": "Python 3 (ipykernel)",
   "language": "python",
   "name": "python3"
  },
  "language_info": {
   "codemirror_mode": {
    "name": "ipython",
    "version": 3
   },
   "file_extension": ".py",
   "mimetype": "text/x-python",
   "name": "python",
   "nbconvert_exporter": "python",
   "pygments_lexer": "ipython3",
   "version": "3.11.3"
  }
 },
 "nbformat": 4,
 "nbformat_minor": 5
}
