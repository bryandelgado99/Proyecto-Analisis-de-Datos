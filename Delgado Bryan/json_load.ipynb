{
 "cells": [
  {
   "cell_type": "code",
   "execution_count": 18,
   "metadata": {},
   "outputs": [],
   "source": [
    "import json\n",
    "from pymongo import MongoClient\n",
    " \n",
    "# Making Connection\n",
    "myclient = MongoClient(\"mongodb://localhost:27017/\")\n",
    "  \n",
    "# database\n",
    "db = myclient[\"MongoBryan1\"]\n",
    "  \n",
    "Collection = db[\"bryan\"]\n",
    " \n",
    "# Loading or Opening the json file\n",
    "#Se cambia el nombre dl archivo de cada JSON para subir el respectivo elemento\n",
    "with open('mcu-netflix.json') as file:\n",
    "    file_data = json.load(file)\n",
    "\n",
    "if isinstance(file_data, list):\n",
    "    Collection.insert_many(file_data) \n",
    "else:\n",
    "    Collection.insert_one(file_data)\n",
    "\n"
   ]
  }
 ],
 "metadata": {
  "kernelspec": {
   "display_name": "Python 3",
   "language": "python",
   "name": "python3"
  },
  "language_info": {
   "codemirror_mode": {
    "name": "ipython",
    "version": 3
   },
   "file_extension": ".py",
   "mimetype": "text/x-python",
   "name": "python",
   "nbconvert_exporter": "python",
   "pygments_lexer": "ipython3",
   "version": "3.11.4"
  },
  "orig_nbformat": 4
 },
 "nbformat": 4,
 "nbformat_minor": 2
}
